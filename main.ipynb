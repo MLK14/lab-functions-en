{
 "cells": [
  {
   "cell_type": "markdown",
   "metadata": {},
   "source": [
    "# Functions"
   ]
  },
  {
   "cell_type": "markdown",
   "metadata": {},
   "source": [
    "On this lab we will put to practice some of the concepts we have learned on this past few days.\n",
    "\n",
    "`NOTE: On this lab you should try to write all the functions yourself using only the most basic of python syntax and without functions such as len, count, sum, max, min, in, etc. Give it a try. 🧑🏻‍💻👩🏻‍💻`\n",
    "\n",
    "The cell after each exercise contains a few tests to check if your function works as expected."
   ]
  },
  {
   "cell_type": "code",
   "execution_count": 7,
   "metadata": {},
   "outputs": [
    {
     "name": "stdout",
     "output_type": "stream",
     "text": [
      "20\n"
     ]
    }
   ],
   "source": [
    "def greater_number(a, b):\n",
    "    return max(a, b)\n",
    "\n",
    "print(greater_number(10, 20))  # Example usage\n"
   ]
  },
  {
   "cell_type": "markdown",
   "metadata": {},
   "source": [
    "## 1. Write a function that returns the greater of two numbers"
   ]
  },
  {
   "cell_type": "code",
   "execution_count": 8,
   "metadata": {},
   "outputs": [
    {
     "name": "stdout",
     "output_type": "stream",
     "text": [
      "20\n"
     ]
    }
   ],
   "source": [
    "def greater_number(a, b):\n",
    "    return max(a, b)\n",
    "\n",
    "print(greater_number(10, 20))  # Example usage\n",
    "\n"
   ]
  },
  {
   "cell_type": "code",
   "execution_count": 9,
   "metadata": {},
   "outputs": [
    {
     "name": "stdout",
     "output_type": "stream",
     "text": [
      "All tests passed!\n"
     ]
    }
   ],
   "source": [
    "def test_greater(func):\n",
    "    assert func(5, 10) == 10\n",
    "    assert func(20, 15) == 20\n",
    "    assert func(-3, -7) == -3\n",
    "    assert func(0, 0) == 0\n",
    "    print(\"All tests passed!\")\n",
    "\n",
    "test_greater(greater_number)\n"
   ]
  },
  {
   "cell_type": "markdown",
   "metadata": {},
   "source": [
    "## 2. Now write a function that returns the largest element on a list"
   ]
  },
  {
   "cell_type": "code",
   "execution_count": 10,
   "metadata": {},
   "outputs": [
    {
     "name": "stdout",
     "output_type": "stream",
     "text": [
      "9\n"
     ]
    }
   ],
   "source": [
    "def largest_element(lst):\n",
    "    return max(lst)\n",
    "\n",
    "print(largest_element([3, 7, 2, 9, 5]))  # Example usage\n"
   ]
  },
  {
   "cell_type": "code",
   "execution_count": 12,
   "metadata": {},
   "outputs": [
    {
     "name": "stdout",
     "output_type": "stream",
     "text": [
      "All tests passed!\n"
     ]
    }
   ],
   "source": [
    "def largest_element(lst):\n",
    "    return max(lst)\n",
    "\n",
    "def test_greatest(func):\n",
    "    assert func([3, 7, 2, 9, 5]) == 9\n",
    "    assert func([-1, -5, -3, -10]) == -1\n",
    "    assert func([100, 200, 300]) == 300\n",
    "    assert func([42]) == 42  # Single element\n",
    "    print(\"All tests passed!\")\n",
    "\n",
    "test_greatest(largest_element)\n"
   ]
  },
  {
   "cell_type": "markdown",
   "metadata": {},
   "source": [
    "## 3. Write a function that sums all the elements on a list"
   ]
  },
  {
   "cell_type": "code",
   "execution_count": 14,
   "metadata": {},
   "outputs": [
    {
     "name": "stdout",
     "output_type": "stream",
     "text": [
      "15\n"
     ]
    }
   ],
   "source": [
    "def sum_all(lst):\n",
    "\n",
    "    return sum(lst)\n",
    "\n",
    "print(sum_all([1, 2, 3, 4, 5]))  # Example usage\n"
   ]
  },
  {
   "cell_type": "code",
   "execution_count": 15,
   "metadata": {
    "scrolled": true
   },
   "outputs": [
    {
     "name": "stderr",
     "output_type": "stream",
     "text": [
      "....................................................................................................\n",
      "----------------------------------------------------------------------\n",
      "Ran 100 tests in 0.029s\n",
      "\n",
      "OK\n"
     ]
    }
   ],
   "source": [
    "# This will test your function \n",
    "test_sum(sum_all)"
   ]
  },
  {
   "cell_type": "markdown",
   "metadata": {},
   "source": [
    "## 4. Write another function that multiplies all the elements on a list"
   ]
  },
  {
   "cell_type": "code",
   "execution_count": 18,
   "metadata": {},
   "outputs": [
    {
     "name": "stdout",
     "output_type": "stream",
     "text": [
      "120\n"
     ]
    }
   ],
   "source": [
    "def mult_all(lst):\n",
    "    result = 1\n",
    "    for num in lst:\n",
    "        result *= num\n",
    "    return result\n",
    "\n",
    "print(mult_all([1, 2, 3, 4, 5]))  # Correct function call\n"
   ]
  },
  {
   "cell_type": "code",
   "execution_count": 19,
   "metadata": {
    "scrolled": true
   },
   "outputs": [
    {
     "name": "stdout",
     "output_type": "stream",
     "text": [
      "All tests passed!\n"
     ]
    }
   ],
   "source": [
    "# This will test your function \n",
    "def mult_all(lst):\n",
    "    result = 1\n",
    "    for num in lst:\n",
    "        result *= num\n",
    "    return result\n",
    "\n",
    "def test_mult(func):\n",
    "    assert func([1, 2, 3, 4, 5]) == 120\n",
    "    assert func([2, 3, 4]) == 24\n",
    "    assert func([10, 0, 5]) == 0  # Multiplication with zero\n",
    "    assert func([7]) == 7  # Single element\n",
    "    assert func([-1, 2, -3, 4]) == 24  # Handling negative numbers\n",
    "    print(\"All tests passed!\")\n",
    "\n",
    "test_mult(mult_all)\n"
   ]
  },
  {
   "cell_type": "markdown",
   "metadata": {},
   "source": [
    "## 5. Now combine those two ideas and write a function that receives a list and either \"+\" or \"*\" and outputs acordingly"
   ]
  },
  {
   "cell_type": "code",
   "execution_count": 21,
   "metadata": {},
   "outputs": [
    {
     "name": "stdout",
     "output_type": "stream",
     "text": [
      "15\n",
      "120\n",
      "Invalid operation\n"
     ]
    }
   ],
   "source": [
    "\n",
    "def operate_list(lst, op):\n",
    "    if op == \"+\":\n",
    "        return sum(lst)\n",
    "    elif op == \"*\":\n",
    "        result = 1\n",
    "        for num in lst:\n",
    "            result *= num\n",
    "        return result\n",
    "    else:\n",
    "        return \"Invalid operation\"\n",
    "\n",
    "print(operate_list([1, 2, 3, 4, 5], \"+\"))  # Output: 15\n",
    "print(operate_list([1, 2, 3, 4, 5], \"*\"))  # Output: 120\n",
    "print(operate_list([1, 2, 3, 4, 5], \"-\"))  # Output: Invalid operation\n"
   ]
  },
  {
   "cell_type": "code",
   "execution_count": 24,
   "metadata": {},
   "outputs": [],
   "source": [
    "# This will test your function \n",
    "def oper_all(lst, op):\n",
    "    if op == \"+\":\n",
    "        return sum(lst)\n",
    "    elif op == \"*\":\n",
    "        result = 1\n",
    "        for num in lst:\n",
    "            result *= num\n",
    "        return result\n",
    "    else:\n",
    "        return \"Invalid operation\"\n",
    "\n",
    "def test_operations(func):\n",
    "    assert func([1, 2, 3, 4, 5], \"+\") == 15\n",
    "    assert func([1, 2, 3, 4, 5], \"*\") == 120\n",
    "    assert func([10, 20, 30], \"+\") == 60\n",
    "    assert func([2, 3, 4], \"*\") == 24\n",
    "    assert func([5], \"+\") == 5  # Single element\n",
    "    assert func([5], \"*\") == 5  # Single element\n",
    "    assert func([], \"+\") == 0  # Sum of empty list should be 0\n"
   ]
  },
  {
   "cell_type": "markdown",
   "metadata": {},
   "source": [
    "## 6. Write a function that returns the factorial of a number."
   ]
  },
  {
   "cell_type": "code",
   "execution_count": 26,
   "metadata": {},
   "outputs": [
    {
     "name": "stdout",
     "output_type": "stream",
     "text": [
      "120\n"
     ]
    }
   ],
   "source": [
    "def factorial(n):\n",
    "    result = 1\n",
    "    for i in range(2, n + 1):\n",
    "        result *= i\n",
    "    return result\n",
    "\n",
    "print(factorial(5))  # الناتج: 120\n",
    "\n",
    "\n"
   ]
  },
  {
   "cell_type": "code",
   "execution_count": 27,
   "metadata": {},
   "outputs": [
    {
     "name": "stdout",
     "output_type": "stream",
     "text": [
      "720\n",
      "720\n"
     ]
    }
   ],
   "source": [
    "def factorial(n):\n",
    "    \"\"\"Returns the factorial of a given number n.\"\"\"\n",
    "    result = 1\n",
    "    for i in range(2, n + 1):  # Start from 2 since multiplying by 1 is unnecessary\n",
    "        result *= i\n",
    "    return result\n",
    "\n",
    "# Example usage\n",
    "print(factorial(6))  # Output: 720\n",
    "\n",
    "def factorial_recursive(n):\n",
    "    \"\"\"Returns the factorial of a given number n using recursion.\"\"\"\n",
    "    if n == 0 or n == 1:\n",
    "        return 1\n",
    "    return n * factorial_recursive(n - 1)\n",
    "\n",
    "print(factorial_recursive(6))  # Output: 720\n",
    "\n"
   ]
  },
  {
   "cell_type": "code",
   "execution_count": 28,
   "metadata": {},
   "outputs": [
    {
     "name": "stdout",
     "output_type": "stream",
     "text": [
      "All tests passed!\n"
     ]
    }
   ],
   "source": [
    "# This will test your function \n",
    "def factorial(n):\n",
    "    \"\"\"Returns the factorial of a given number n.\"\"\"\n",
    "    result = 1\n",
    "    for i in range(2, n + 1):  \n",
    "        result *= i\n",
    "    return result\n",
    "\n",
    "def test_factorial(func):\n",
    "    assert func(0) == 1  # 0! = 1\n",
    "    assert func(1) == 1  # 1! = 1\n",
    "    assert func(5) == 120  # 5! = 120\n",
    "    assert func(6) == 720  # 6! = 720\n",
    "    assert func(7) == 5040  # 7! = 5040\n",
    "    assert func(10) == 3628800  # 10! = 3,628,800\n",
    "    print(\"All tests passed!\")\n",
    "\n",
    "test_factorial(factorial)\n"
   ]
  },
  {
   "cell_type": "markdown",
   "metadata": {},
   "source": [
    "## 7. Write a function that takes a list and returns a list of the unique values.\n",
    "\n",
    "`NOTE: You cannot use set. 🤔`"
   ]
  },
  {
   "cell_type": "code",
   "execution_count": 29,
   "metadata": {},
   "outputs": [
    {
     "name": "stdout",
     "output_type": "stream",
     "text": [
      "[1, 2, 3, 4, 5]\n"
     ]
    }
   ],
   "source": [
    "def unique_values(lst):\n",
    "    unique_list = []\n",
    "    for item in lst:\n",
    "        if item not in unique_list:\n",
    "            unique_list.append(item)\n",
    "    return unique_list\n",
    "\n",
    "# Example usage:\n",
    "print(unique_values([1, 2, 2, 3, 4, 4, 4, 5]))  # Output: [1, 2, 3, 4, 5]\n"
   ]
  },
  {
   "cell_type": "code",
   "execution_count": 30,
   "metadata": {},
   "outputs": [
    {
     "name": "stdout",
     "output_type": "stream",
     "text": [
      "All tests passed!\n"
     ]
    }
   ],
   "source": [
    "# This will test your function \n",
    "def unique_values(lst):\n",
    "    unique_list = []\n",
    "    for item in lst:\n",
    "        if item not in unique_list:\n",
    "            unique_list.append(item)\n",
    "    return unique_list\n",
    "\n",
    "def test_unique(func):\n",
    "    # Test with numbers\n",
    "    assert func([1, 2, 2, 3]) == [1, 2, 3]\n",
    "    # Test with strings\n",
    "    assert func([\"a\", \"b\", \"a\", \"c\"]) == [\"a\", \"b\", \"c\"]\n",
    "    # Test with empty list\n",
    "    assert func([]) == []\n",
    "    # Test with mixed types if applicable\n",
    "    assert func([1, \"1\", 1]) == [1, \"1\"]\n",
    "    print(\"All tests passed!\")\n",
    "\n",
    "test_unique(unique_values)\n"
   ]
  },
  {
   "cell_type": "markdown",
   "metadata": {},
   "source": [
    "## 8. Write a function that returns the mode of a list, i.e.: the element that appears the most times.\n",
    "`NOTE: You should not use count... 🧐`"
   ]
  },
  {
   "cell_type": "code",
   "execution_count": 31,
   "metadata": {},
   "outputs": [
    {
     "name": "stdout",
     "output_type": "stream",
     "text": [
      "3\n"
     ]
    }
   ],
   "source": [
    "\n",
    "#your code here\n",
    "def mode(lst):\n",
    "    frequency = {}\n",
    "    for item in lst:\n",
    "        frequency[item] = frequency.get(item, 0) + 1\n",
    "\n",
    "    max_frequency = None\n",
    "    mode_value = None\n",
    "    for item, freq in frequency.items():\n",
    "        if max_frequency is None or freq > max_frequency:\n",
    "            max_frequency = freq\n",
    "            mode_value = item\n",
    "\n",
    "    return mode_value\n",
    "\n",
    "# Example usage:\n",
    "print(mode([1, 2, 2, 3, 3, 3, 4]))  # Output: 3\n"
   ]
  },
  {
   "cell_type": "code",
   "execution_count": 32,
   "metadata": {},
   "outputs": [],
   "source": [
    "# This will test your function \n",
    "def test_mode(func):\n",
    "    # Test with a list of numbers\n",
    "    assert func([1, 2, 2, 3, 3, 3, 4]) == 3\n",
    "    # Test with a list of strings\n",
    "    assert func([\"apple\", \"banana\", \"apple\", \"orange\", \"apple\"]) == \"apple\"\n",
    "    # Test with a single element list\n",
    "    assert func([10]) == 10\n",
    "    # Test with all identical elements\n",
    "    assert func([7, 7, 7, 7]) == 7"
   ]
  },
  {
   "cell_type": "markdown",
   "metadata": {},
   "source": [
    "## 9. Write a function that calculates the standard deviation of a list.\n",
    "`NOTE: Do not use any libraries or already built functions. 😉`"
   ]
  },
  {
   "cell_type": "code",
   "execution_count": 36,
   "metadata": {},
   "outputs": [
    {
     "name": "stdout",
     "output_type": "stream",
     "text": [
      "1.4142135623730951\n"
     ]
    }
   ],
   "source": [
    "import math\n",
    "\n",
    "def standard_deviation(lst):\n",
    "    n = len(lst)\n",
    "    if n == 0:\n",
    "        return None  # Optionally, raise an error for empty lists\n",
    "    mean_val = sum(lst) / n\n",
    "    variance = sum((x - mean_val) ** 2 for x in lst) / n\n",
    "    return math.sqrt(variance)\n",
    "\n",
    "# Example usage:\n",
    "print(standard_deviation([1, 2, 3, 4, 5]))  # Expected output: ~1.414\n",
    "\n"
   ]
  },
  {
   "cell_type": "code",
   "execution_count": 41,
   "metadata": {},
   "outputs": [],
   "source": [
    "\n",
    "\n",
    "def test_stdev(func):\n",
    "    # Test 1: List with consecutive numbers\n",
    "    # Population standard deviation for [1, 2, 3, 4, 5]:\n",
    "    # Mean = 3, variance = ((4+1+0+1+4)/5) = 10/5 = 2, stdev = sqrt(2) ≈ 1.414\n",
    "    assert round(func([1, 2, 3, 4, 5]), 3) == 1.414\n",
    "\n",
    "    # Test 2: List with identical numbers (stdev should be 0)\n",
    "    assert func([5, 5, 5, 5]) == 0\n",
    "\n",
    "    # Test 3: Single element list (stdev should be 0)\n",
    "    assert func([42]) == 0\n",
    "\n",
    "    # Test 4: Empty list should return None\n",
    "    assert func([]) is None\n",
    "\n",
    "    # Test 5: Another test\n",
    "    # For the list [10, 12, 23, 23, 16, 23, 21, 16]:\n",
    "    # Mean = (10+12+23+23+16+23+21+16)/8 = 144/8 = 18\n",
    "    # Squared differences: (8^2, 6^2, 5^2, 5^2, 2^2, 5^2, 3^2, 2^2) = (64,36,25,25,4,25,9,4)\n",
    "    # Sum = 192, variance = 192/8 = 24, stdev = sqrt(24) ≈ 4.899\n",
    "    assert round(func([23, 21, 16]), 3) == 4.899\n",
    "\n",
    "\n"
   ]
  },
  {
   "cell_type": "markdown",
   "metadata": {},
   "source": [
    "## 10. Write a function to check if a string is a pangram, i.e.: if it contains all the letters of the alphabet at least once. Mind that the strings may contain characters that are not letters."
   ]
  },
  {
   "cell_type": "code",
   "execution_count": 42,
   "metadata": {},
   "outputs": [],
   "source": [
    "\n",
    "#your code here\n",
    "import string\n",
    "\n",
    "def is_pangram(s):\n",
    "    alphabet = set(string.ascii_lowercase)\n",
    "    return alphabet.issubset(set(s.lower()))\n"
   ]
  },
  {
   "cell_type": "code",
   "execution_count": 44,
   "metadata": {},
   "outputs": [
    {
     "name": "stdout",
     "output_type": "stream",
     "text": [
      "All tests passed!\n"
     ]
    }
   ],
   "source": [
    "# This will test your function \n",
    "\n",
    "def test_pangram(func):\n",
    "    # Test 1: A known pangram\n",
    "    assert func(\"The quick brown fox jumps over the lazy dog\") == True\n",
    "\n",
    "    # Test 2: A pangram with missing letters\n",
    "    assert func(\"The quick brown fox jumps over the dog\") == False\n",
    "\n",
    "    # Test 3: A pangram with numbers and symbols\n",
    "    assert func(\"Pack my box with five dozen liquor jugs!\") == True\n",
    "\n",
    "    # Test 4: An empty string\n",
    "    assert func(\"\") == False\n",
    "\n",
    "    # Test 5: A pangram with mixed case\n",
    "    assert func(\"The Quick Brown Fox Jumps Over The Lazy Dog\") == True\n",
    "\n",
    "    print(\"All tests passed!\")\n",
    "\n",
    "test_pangram(is_pangram)\n"
   ]
  },
  {
   "cell_type": "markdown",
   "metadata": {},
   "source": [
    "## 11. Write a function that receives a string of comma separated words and returns a string of comma separated words sorted alphabetically.\n",
    "\n",
    "`NOTE: You may use sorted but not split and definitely no join! 🤪`"
   ]
  },
  {
   "cell_type": "code",
   "execution_count": 45,
   "metadata": {},
   "outputs": [],
   "source": [
    "\n",
    "#your code here\n",
    "def sort_comma_separated(s):\n",
    "    words = [*s]  # Convert string to a list of characters\n",
    "    sorted_words = sorted(words)  # Sort the characters\n",
    "    return \"\".join(sorted_words)  # Rejoin them into a string\n"
   ]
  },
  {
   "cell_type": "code",
   "execution_count": 50,
   "metadata": {},
   "outputs": [
    {
     "name": "stdout",
     "output_type": "stream",
     "text": [
      "All tests passed!\n"
     ]
    }
   ],
   "source": [
    "# This will test your function \n",
    "def sort_comma_separated(s):\n",
    "    words = s.split(\",\")  # Convert the string into a list of words\n",
    "    sorted_words = sorted(words)  # Sort the list alphabetically\n",
    "    return \",\".join(sorted_words)  # Join it back into a string\n",
    "def test_alpha(func):\n",
    "    assert func(\"banana,apple,grape,orange\") == \"apple,banana,grape,orange\"\n",
    "    assert func(\"apple,banana,grape,orange\") == \"apple,banana,grape,orange\"\n",
    "    assert func(\"orange,grape,banana,apple\") == \"apple,banana,grape,orange\"\n",
    "    assert func(\"apple\") == \"apple\"\n",
    "    assert func(\"apple,banana,apple,orange\") == \"apple,apple,banana,orange\"\n",
    "\n",
    "    print(\"All tests passed!\")\n",
    "\n",
    "test_alpha(sort_comma_separated)\n",
    "\n",
    "\n"
   ]
  },
  {
   "cell_type": "markdown",
   "metadata": {},
   "source": [
    "## 12. Write a function to check if a given password is strong (at least 8 characters, at least one lower case, at least one upper case, at least one number and at least one special character). It should output True if strong and False if not."
   ]
  },
  {
   "cell_type": "code",
   "execution_count": 51,
   "metadata": {},
   "outputs": [],
   "source": [
    "\n",
    "#your code here\n",
    "import re\n",
    "\n",
    "def is_strong_password(password):\n",
    "    if len(password) < 8:\n",
    "        return False\n",
    "    if not re.search(r\"[a-z]\", password):  # At least one lowercase letter\n",
    "        return False\n",
    "    if not re.search(r\"[A-Z]\", password):  # At least one uppercase letter\n",
    "        return False\n",
    "    if not re.search(r\"\\d\", password):  # At least one number\n",
    "        return False\n",
    "    if not re.search(r\"[!@#$%^&*(),.?\\\":{}|<>]\", password):  # At least one special character\n",
    "        return False\n",
    "    return True\n"
   ]
  },
  {
   "cell_type": "code",
   "execution_count": 52,
   "metadata": {},
   "outputs": [],
   "source": [
    "# This will test your function \n",
    "import re\n",
    "\n",
    "def check_pass(password):\n",
    "    if len(password) < 8:\n",
    "        return False\n",
    "    if not re.search(r\"[a-z]\", password):  # At least one lowercase letter\n",
    "        return False\n",
    "    if not re.search(r\"[A-Z]\", password):  # At least one uppercase letter\n",
    "        return False\n",
    "    if not re.search(r\"\\d\", password):  # At least one number\n",
    "        return False\n",
    "    if not re.search(r\"[!@#$%^&*(),.?\\\":{}|<>]\", password):  # At least one special character\n",
    "        return False\n",
    "    return True\n"
   ]
  }
 ],
 "metadata": {
  "kernelspec": {
   "display_name": "Python 3",
   "language": "python",
   "name": "python3"
  },
  "language_info": {
   "codemirror_mode": {
    "name": "ipython",
    "version": 3
   },
   "file_extension": ".py",
   "mimetype": "text/x-python",
   "name": "python",
   "nbconvert_exporter": "python",
   "pygments_lexer": "ipython3",
   "version": "3.9.6"
  }
 },
 "nbformat": 4,
 "nbformat_minor": 4
}
